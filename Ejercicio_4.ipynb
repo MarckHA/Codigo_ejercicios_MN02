{
 "cells": [
  {
   "cell_type": "code",
   "execution_count": 1,
   "id": "2d034070-7c86-49ba-abb9-73ebd4eb67ba",
   "metadata": {
    "tags": []
   },
   "outputs": [],
   "source": [
    "def Algoritmo_1(valores):\n",
    "    producto = 0\n",
    "    for x in valores:\n",
    "        producto *= x\n",
    "    return producto"
   ]
  },
  {
   "cell_type": "code",
   "execution_count": 2,
   "id": "d5f49588-9cc6-45dc-ba11-d119a6b4b7ba",
   "metadata": {
    "tags": []
   },
   "outputs": [
    {
     "name": "stdout",
     "output_type": "stream",
     "text": [
      "Resultado del algoritmo 1: 0\n"
     ]
    }
   ],
   "source": [
    "valores_1a = [10, 9, 8, 7, 6, 5, 4, 3, 2, 1]\n",
    "print(\"Resultado del algoritmo 1:\", Algoritmo_1(valores_1a))"
   ]
  },
  {
   "cell_type": "code",
   "execution_count": 3,
   "id": "f0889332-cfd1-42aa-96b4-c44a7645d090",
   "metadata": {
    "tags": []
   },
   "outputs": [],
   "source": [
    "def Algoritmo_2(valores):\n",
    "    producto = 1\n",
    "    for x in valores:\n",
    "        producto *= x\n",
    "    return producto"
   ]
  },
  {
   "cell_type": "code",
   "execution_count": 4,
   "id": "c4678fc0-1929-4dc7-b462-09620d195f95",
   "metadata": {
    "tags": []
   },
   "outputs": [
    {
     "name": "stdout",
     "output_type": "stream",
     "text": [
      "Resultado del algoritmo 2: 3628800\n"
     ]
    }
   ],
   "source": [
    "valores_1a = [10, 9, 8, 7, 6, 5, 4, 3, 2, 1]\n",
    "print(\"Resultado del algoritmo 2:\", Algoritmo_2(valores_1a))"
   ]
  },
  {
   "cell_type": "code",
   "execution_count": 5,
   "id": "1927ac52-e7b4-4aed-b731-0ea8b705bf3a",
   "metadata": {
    "tags": []
   },
   "outputs": [],
   "source": [
    "def Algoritmo_3(valores):\n",
    "    producto = 1\n",
    "    for x in valores:\n",
    "        if x == 0:\n",
    "            producto = 0\n",
    "            return producto\n",
    "        producto *= x\n",
    "    return producto"
   ]
  },
  {
   "cell_type": "code",
   "execution_count": 6,
   "id": "cb273b10-0d92-4b0f-b1a5-115b66256421",
   "metadata": {
    "tags": []
   },
   "outputs": [
    {
     "name": "stdout",
     "output_type": "stream",
     "text": [
      "Resultado del algoritmo 2: 3628800\n"
     ]
    }
   ],
   "source": [
    "valores_1a = [10, 9, 8, 7, 6, 5, 4, 3, 2, 1]\n",
    "print(\"Resultado del algoritmo 2:\", Algoritmo_3(valores_1a))"
   ]
  },
  {
   "cell_type": "code",
   "execution_count": null,
   "id": "7a60f8ec-b09d-4b69-b137-a5aa6f828f86",
   "metadata": {},
   "outputs": [],
   "source": []
  }
 ],
 "metadata": {
  "kernelspec": {
   "display_name": "Python 3 (ipykernel)",
   "language": "python",
   "name": "python3"
  },
  "language_info": {
   "codemirror_mode": {
    "name": "ipython",
    "version": 3
   },
   "file_extension": ".py",
   "mimetype": "text/x-python",
   "name": "python",
   "nbconvert_exporter": "python",
   "pygments_lexer": "ipython3",
   "version": "3.11.7"
  }
 },
 "nbformat": 4,
 "nbformat_minor": 5
}
