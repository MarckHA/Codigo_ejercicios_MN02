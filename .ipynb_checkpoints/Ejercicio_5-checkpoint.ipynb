{
 "cells": [
  {
   "cell_type": "code",
   "execution_count": 1,
   "id": "3cb65b48-455b-45d3-b287-12a604cfc403",
   "metadata": {
    "tags": []
   },
   "outputs": [
    {
     "name": "stdout",
     "output_type": "stream",
     "text": [
      "La suma es: 76\n",
      "El número de sumas es: 14\n",
      "El número de multiplicaciones es: 15\n",
      "El número total de operaciones es: 29\n"
     ]
    }
   ],
   "source": [
    "a = [5, 2, 1,0,3]\n",
    "b = [3, 2, 1,4,5]\n",
    "nsum=-1\n",
    "nmul=0\n",
    "suma = 0\n",
    "for i in range(1, len(a) + 1):\n",
    "    for j in range(1, i + 1):\n",
    "        mul = a[i - 1] * b[j - 1]\n",
    "        nmul += 1\n",
    "        suma += mul\n",
    "        nsum += 1\n",
    "print(\"La suma es:\", suma)\n",
    "print(\"El número de sumas es:\", nsum)\n",
    "print(\"El número de multiplicaciones es:\", nmul)\n",
    "print(\"El número total de operaciones es:\", nsum+nmul)"
   ]
  },
  {
   "cell_type": "code",
   "execution_count": 2,
   "id": "66e08153-b584-4c1e-bfb7-55765e7aec2f",
   "metadata": {
    "tags": []
   },
   "outputs": [
    {
     "name": "stdout",
     "output_type": "stream",
     "text": [
      "La suma es: 76\n",
      "El número de sumas es: 14\n",
      "El número de multiplicaciones es: 5\n",
      "El número total de operaciones es: 19\n"
     ]
    }
   ],
   "source": [
    "a = [5, 2, 1,0,3]\n",
    "b = [3, 2, 1,4,5]\n",
    "nsum=-1\n",
    "nmul=0\n",
    "suma = 0\n",
    "for i in range(1, len(a) + 1):\n",
    "    suma1 = 0\n",
    "    for j in range(1, i + 1):\n",
    "        suma1 += b[j - 1]\n",
    "        nsum += 1\n",
    "    suma += a[i-1]*suma1\n",
    "    nmul += 1\n",
    "print(\"La suma es:\", suma)\n",
    "print(\"El número de sumas es:\", nsum)\n",
    "print(\"El número de multiplicaciones es:\", nmul)\n",
    "print(\"El número total de operaciones es:\", nsum+nmul)"
   ]
  },
  {
   "cell_type": "code",
   "execution_count": null,
   "id": "e4d053de-458b-4d82-b351-cf40c9eb971d",
   "metadata": {},
   "outputs": [],
   "source": []
  }
 ],
 "metadata": {
  "kernelspec": {
   "display_name": "Python 3 (ipykernel)",
   "language": "python",
   "name": "python3"
  },
  "language_info": {
   "codemirror_mode": {
    "name": "ipython",
    "version": 3
   },
   "file_extension": ".py",
   "mimetype": "text/x-python",
   "name": "python",
   "nbconvert_exporter": "python",
   "pygments_lexer": "ipython3",
   "version": "3.11.7"
  }
 },
 "nbformat": 4,
 "nbformat_minor": 5
}
