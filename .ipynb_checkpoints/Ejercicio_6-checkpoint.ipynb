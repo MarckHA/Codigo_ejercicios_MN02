{
 "cells": [
  {
   "cell_type": "code",
   "execution_count": 2,
   "id": "3cc14dbd-eda2-4a32-9759-4a241560f878",
   "metadata": {
    "tags": []
   },
   "outputs": [],
   "source": [
    "def sumarSerieInversa(n: int, x: float) -> float:\n",
    "    suma = 0\n",
    "    for i in reversed(range(1,n+1)):\n",
    "        suma += x ** i\n",
    "    return suma"
   ]
  },
  {
   "cell_type": "code",
   "execution_count": 4,
   "id": "152dbc84-5af2-45e5-8cc9-3ccd827e5210",
   "metadata": {
    "tags": []
   },
   "outputs": [
    {
     "name": "stdout",
     "output_type": "stream",
     "text": [
      "La suma de la serie en orden inverso es: 62\n"
     ]
    }
   ],
   "source": [
    "n = 5\n",
    "x = 2\n",
    "resultado = sumarSerieInversa(n, x)\n",
    "print(\"La suma de la serie en orden inverso es:\", resultado)"
   ]
  },
  {
   "cell_type": "code",
   "execution_count": null,
   "id": "c1810929-b0cc-44f0-a499-cdca6109238b",
   "metadata": {},
   "outputs": [],
   "source": []
  }
 ],
 "metadata": {
  "kernelspec": {
   "display_name": "Python 3 (ipykernel)",
   "language": "python",
   "name": "python3"
  },
  "language_info": {
   "codemirror_mode": {
    "name": "ipython",
    "version": 3
   },
   "file_extension": ".py",
   "mimetype": "text/x-python",
   "name": "python",
   "nbconvert_exporter": "python",
   "pygments_lexer": "ipython3",
   "version": "3.11.7"
  }
 },
 "nbformat": 4,
 "nbformat_minor": 5
}
