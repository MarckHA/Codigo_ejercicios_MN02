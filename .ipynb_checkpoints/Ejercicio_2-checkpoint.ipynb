{
 "cells": [
  {
   "cell_type": "code",
   "execution_count": 18,
   "id": "567911bd-9e40-4c47-ad04-0b1413c57401",
   "metadata": {
    "tags": []
   },
   "outputs": [],
   "source": [
    "import math\n",
    "def P_n(prsc):\n",
    "    result = 0\n",
    "    i = 1\n",
    "    error = 10\n",
    "    while (error > prsc):\n",
    "        num = (-1)**(i+1)\n",
    "        den = 2*i-1\n",
    "        result += num/den\n",
    "        error = abs(4*result-math.pi)\n",
    "        nterm = i\n",
    "        i += 1\n",
    "    return nterm"
   ]
  },
  {
   "cell_type": "code",
   "execution_count": 31,
   "id": "d1630d1d-58c1-453d-bb32-5741eb282fd9",
   "metadata": {
    "tags": []
   },
   "outputs": [
    {
     "name": "stdout",
     "output_type": "stream",
     "text": [
      "99995329\n"
     ]
    }
   ],
   "source": [
    "print(P_n(10**(-8)))"
   ]
  },
  {
   "cell_type": "code",
   "execution_count": null,
   "id": "c246815b-7e06-47d7-aa38-39bac0cb91db",
   "metadata": {},
   "outputs": [],
   "source": []
  }
 ],
 "metadata": {
  "kernelspec": {
   "display_name": "Python 3 (ipykernel)",
   "language": "python",
   "name": "python3"
  },
  "language_info": {
   "codemirror_mode": {
    "name": "ipython",
    "version": 3
   },
   "file_extension": ".py",
   "mimetype": "text/x-python",
   "name": "python",
   "nbconvert_exporter": "python",
   "pygments_lexer": "ipython3",
   "version": "3.11.7"
  }
 },
 "nbformat": 4,
 "nbformat_minor": 5
}
