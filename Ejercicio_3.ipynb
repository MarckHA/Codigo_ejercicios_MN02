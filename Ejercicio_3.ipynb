{
 "cells": [
  {
   "cell_type": "code",
   "execution_count": 1,
   "id": "4563f1ae-b713-4b72-90fd-461871187456",
   "metadata": {
    "tags": []
   },
   "outputs": [],
   "source": [
    "def P_n(n, x):\n",
    "    suma = 0\n",
    "    for i in range(1,n+1):\n",
    "        sgn = (-1)**(i+1)\n",
    "        num = x**(2*i-1)\n",
    "        den = 2*i-1\n",
    "        suma += sgn*(num/den)\n",
    "    return suma"
   ]
  },
  {
   "cell_type": "code",
   "execution_count": 2,
   "id": "b3eb3ff9-cf90-4177-a23d-c043682c1259",
   "metadata": {
    "tags": []
   },
   "outputs": [],
   "source": [
    "import math\n",
    "def aproxPi():\n",
    "    error = 10\n",
    "    aprox = 0\n",
    "    nterm = 0\n",
    "    i=1\n",
    "    while (error > 10**(-3)):\n",
    "        aprox = 16*P_n(i,1/5) - 4*P_n(i,1/239)\n",
    "        error = abs(math.pi-aprox)\n",
    "        nterm = i\n",
    "        i += 1\n",
    "    return nterm"
   ]
  },
  {
   "cell_type": "code",
   "execution_count": 3,
   "id": "e394eeae-64b9-45ff-8ecb-77561dcb18f4",
   "metadata": {
    "tags": []
   },
   "outputs": [
    {
     "name": "stdout",
     "output_type": "stream",
     "text": [
      "2\n"
     ]
    }
   ],
   "source": [
    "print(aproxPi())"
   ]
  }
 ],
 "metadata": {
  "kernelspec": {
   "display_name": "Python 3 (ipykernel)",
   "language": "python",
   "name": "python3"
  },
  "language_info": {
   "codemirror_mode": {
    "name": "ipython",
    "version": 3
   },
   "file_extension": ".py",
   "mimetype": "text/x-python",
   "name": "python",
   "nbconvert_exporter": "python",
   "pygments_lexer": "ipython3",
   "version": "3.11.7"
  }
 },
 "nbformat": 4,
 "nbformat_minor": 5
}
