{
 "cells": [
  {
   "cell_type": "code",
   "execution_count": 1,
   "id": "00996f89-4ccc-452f-b02d-a4a4955d81d7",
   "metadata": {
    "tags": []
   },
   "outputs": [],
   "source": [
    "import math\n",
    "def truncar_cs(num, cifras):\n",
    "    if num == 0:\n",
    "        return 0\n",
    "    else:\n",
    "        factor_escala = 10 ** (cifras - math.ceil(math.log10(abs(num))))\n",
    "        # Escala el número, trunca y luego reescala\n",
    "        num_truncado = math.trunc(num * factor_escala) / factor_escala\n",
    "        return num_truncado"
   ]
  },
  {
   "cell_type": "code",
   "execution_count": 2,
   "id": "50c69e97-fb3e-402e-b0fe-7f983220db50",
   "metadata": {
    "tags": []
   },
   "outputs": [],
   "source": [
    "def sumaEnOrden_a (limiteSup: int):\n",
    "    suma = 0\n",
    "    for i in range(1,limiteSup+1):\n",
    "        suma = truncar_cs(suma + truncar_cs(1/(i)**2,3),3)\n",
    "    return suma"
   ]
  },
  {
   "cell_type": "code",
   "execution_count": 3,
   "id": "9c3203d5-d47b-4510-b7d2-cd1da6c78dab",
   "metadata": {
    "tags": []
   },
   "outputs": [
    {
     "name": "stdout",
     "output_type": "stream",
     "text": [
      "1.53\n"
     ]
    }
   ],
   "source": [
    "print(sumaEnOrden_a(10))"
   ]
  },
  {
   "cell_type": "code",
   "execution_count": 4,
   "id": "418f5ac7-b171-4329-ad89-4c77ba98fcd7",
   "metadata": {
    "tags": []
   },
   "outputs": [],
   "source": [
    "def sumaInversa_a (limiteSup: int):\n",
    "    suma = 0\n",
    "    for i in reversed(range(1,limiteSup+1)):\n",
    "        suma = truncar_cs(suma + truncar_cs(1/(i)**2,3),3)\n",
    "    return suma"
   ]
  },
  {
   "cell_type": "code",
   "execution_count": 5,
   "id": "8a3e0e5e-5276-4bb2-a33e-9b2350395ffb",
   "metadata": {
    "tags": []
   },
   "outputs": [
    {
     "name": "stdout",
     "output_type": "stream",
     "text": [
      "1.54\n"
     ]
    }
   ],
   "source": [
    "print(sumaInversa_a(10))"
   ]
  },
  {
   "cell_type": "code",
   "execution_count": 6,
   "id": "0820fbe8-499d-4e16-8165-ad900619078c",
   "metadata": {
    "tags": []
   },
   "outputs": [],
   "source": [
    "def sumaEnOrden_b (limiteSup: int):\n",
    "    suma = 0\n",
    "    for i in range(1,limiteSup+1):\n",
    "        suma = truncar_cs(suma + truncar_cs(1/(i)**3,3),3)\n",
    "    return suma"
   ]
  },
  {
   "cell_type": "code",
   "execution_count": 7,
   "id": "e45c9337-0cc6-4a71-897b-dd3cbe52423d",
   "metadata": {
    "tags": []
   },
   "outputs": [
    {
     "name": "stdout",
     "output_type": "stream",
     "text": [
      "1.16\n"
     ]
    }
   ],
   "source": [
    "print(sumaEnOrden_b(10))"
   ]
  },
  {
   "cell_type": "code",
   "execution_count": 8,
   "id": "a07845e5-8562-4051-9cfd-03201fbca9d9",
   "metadata": {
    "tags": []
   },
   "outputs": [],
   "source": [
    "def sumaInversa_b (limiteSup: int):\n",
    "    suma = 0\n",
    "    for i in reversed(range(1,limiteSup+1)):\n",
    "        suma = truncar_cs(suma + truncar_cs(1/(i)**3,3),3)\n",
    "    return suma"
   ]
  },
  {
   "cell_type": "code",
   "execution_count": 9,
   "id": "f0a94cfc-8fbf-4ef4-940b-6e8b2d7e6ee8",
   "metadata": {
    "tags": []
   },
   "outputs": [
    {
     "name": "stdout",
     "output_type": "stream",
     "text": [
      "1.19\n"
     ]
    }
   ],
   "source": [
    "print(sumaInversa_b(10))"
   ]
  },
  {
   "cell_type": "code",
   "execution_count": null,
   "id": "2a9f2c96-eec6-467e-b927-9be7170f44db",
   "metadata": {
    "tags": []
   },
   "outputs": [],
   "source": []
  },
  {
   "cell_type": "code",
   "execution_count": null,
   "id": "fc2389a0-53d8-4c9b-ae93-3f552ad8e71a",
   "metadata": {},
   "outputs": [],
   "source": []
  }
 ],
 "metadata": {
  "kernelspec": {
   "display_name": "Python 3 (ipykernel)",
   "language": "python",
   "name": "python3"
  },
  "language_info": {
   "codemirror_mode": {
    "name": "ipython",
    "version": 3
   },
   "file_extension": ".py",
   "mimetype": "text/x-python",
   "name": "python",
   "nbconvert_exporter": "python",
   "pygments_lexer": "ipython3",
   "version": "3.11.7"
  }
 },
 "nbformat": 4,
 "nbformat_minor": 5
}
